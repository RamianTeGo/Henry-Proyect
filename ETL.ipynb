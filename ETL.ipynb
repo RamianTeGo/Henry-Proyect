{
 "cells": [
  {
   "attachments": {},
   "cell_type": "markdown",
   "metadata": {},
   "source": [
    " 1. IMPORTAMOS LAS LIBRESIAS\n"
   ]
  },
  {
   "cell_type": "code",
   "execution_count": null,
   "metadata": {},
   "outputs": [],
   "source": [
    "import pandas as pd\n",
    "import numpy as np\n",
    "import ast\n",
    "import json"
   ]
  },
  {
   "cell_type": "code",
   "execution_count": null,
   "metadata": {},
   "outputs": [],
   "source": [
    "# Se realiza la carga de los datasets movie y credits\n",
    "data_movie = pd.read_csv(\"Dataset\\movies_dataset.csv\")\n",
    "data_credits = pd.read_csv(\"Dataset\\credits.csv\")\n",
    "\n"
   ]
  },
  {
   "attachments": {},
   "cell_type": "markdown",
   "metadata": {},
   "source": [
    "2. COMPRENDEMOS LOS DATOS"
   ]
  },
  {
   "cell_type": "code",
   "execution_count": null,
   "metadata": {},
   "outputs": [],
   "source": [
    "\n",
    "# Revisamos el numero total de registros de los datasets\n",
    "print(data_movie.shape)\n",
    "print(data_credits.shape)\n"
   ]
  },
  {
   "cell_type": "code",
   "execution_count": null,
   "metadata": {},
   "outputs": [],
   "source": [
    "# checkeamos los tipos de datos de ambos datasets\n",
    "data_movie.info()\n",
    "data_credits.info()"
   ]
  },
  {
   "attachments": {},
   "cell_type": "markdown",
   "metadata": {},
   "source": [
    "3. PREPARACION DE LOS DATOS"
   ]
  },
  {
   "cell_type": "code",
   "execution_count": null,
   "metadata": {},
   "outputs": [],
   "source": [
    "# se miran los nulos por columnas\n",
    "data_movie.isnull().sum()"
   ]
  },
  {
   "cell_type": "code",
   "execution_count": null,
   "metadata": {},
   "outputs": [],
   "source": [
    "#Para ahora rellenar los valores nulos en revenue y budget\n",
    "data_movie['revenue'] = data_movie['revenue'].fillna(0)\n",
    "data_movie['budget'] = data_movie['budget'].fillna(0)"
   ]
  },
  {
   "cell_type": "code",
   "execution_count": null,
   "metadata": {},
   "outputs": [],
   "source": [
    "# se eliminará valores nulos de release date\n",
    "data_movie.dropna(subset=['release_date'], inplace=True)\n"
   ]
  },
  {
   "cell_type": "code",
   "execution_count": null,
   "metadata": {},
   "outputs": [],
   "source": [
    "# Se guardan solo los registron que no tengan release_date nula\n",
    "data_movie = data_movie[data_movie['release_date'].notna()]"
   ]
  },
  {
   "cell_type": "code",
   "execution_count": null,
   "metadata": {},
   "outputs": [],
   "source": [
    "# Revisamos otra vez los nulos despues de los cambios realizados\n",
    "data_movie.isna().sum()"
   ]
  },
  {
   "cell_type": "code",
   "execution_count": null,
   "metadata": {},
   "outputs": [],
   "source": [
    "# Se hace el cambio de formato de fecha a AAAA-mm-dd\n",
    "data_movie['release_date'] = pd.to_datetime(data_movie['release_date'], format='%Y-%m-%d', errors='coerce')"
   ]
  },
  {
   "cell_type": "code",
   "execution_count": null,
   "metadata": {},
   "outputs": [],
   "source": [
    "# Se crea una nueva columna 'release_year', donde se extrae el año de estreno\n",
    "data_movie['release_year'] = data_movie['release_date'].dt.year\n",
    "data_movie['release_year']"
   ]
  },
  {
   "cell_type": "code",
   "execution_count": null,
   "metadata": {},
   "outputs": [],
   "source": [
    "# se borran los valores no validos en budget\n",
    "data_movie = data_movie[pd.to_numeric(data_movie['budget'], errors='coerce').notnull()]"
   ]
  },
  {
   "cell_type": "code",
   "execution_count": null,
   "metadata": {},
   "outputs": [],
   "source": [
    "# se convierte budget y revenue a tipo de dato float\n",
    "data_movie['budget'] = data_movie['budget'].astype(np.float64)\n",
    "data_movie['revenue'] = data_movie['revenue'].astype(np.float64)"
   ]
  },
  {
   "cell_type": "code",
   "execution_count": null,
   "metadata": {},
   "outputs": [],
   "source": [
    "# Se realiza el calculo del retorno en nueva columna\n",
    "data_movie['return'] = data_movie.apply(lambda x: x['revenue'] / x['budget'] if x['budget'] != 0 else 0, axis=1)"
   ]
  },
  {
   "cell_type": "code",
   "execution_count": null,
   "metadata": {},
   "outputs": [],
   "source": [
    "# cambiamos el tipo de datos de popularity\n",
    "data_movie['popularity'] = data_movie['popularity'].astype('float')"
   ]
  },
  {
   "cell_type": "code",
   "execution_count": null,
   "metadata": {},
   "outputs": [],
   "source": [
    "# Examinamos los repetidos para su posterior eliminacion\n",
    "print(data_movie.duplicated().sum())\n",
    "print(data_credits.duplicated().sum())"
   ]
  },
  {
   "cell_type": "code",
   "execution_count": null,
   "metadata": {},
   "outputs": [],
   "source": [
    "# Eliminamos duplicados\n",
    "data_movie = data_movie.drop_duplicates()\n",
    "data_credits = data_credits.drop_duplicates()"
   ]
  },
  {
   "cell_type": "code",
   "execution_count": null,
   "metadata": {},
   "outputs": [],
   "source": [
    "# Se requiere revisar los duplicados en 'id' \n",
    "print(data_movie['id'].duplicated().sum())\n",
    "print(data_credits['id'].duplicated().sum())\n",
    "\n"
   ]
  },
  {
   "cell_type": "code",
   "execution_count": null,
   "metadata": {},
   "outputs": [],
   "source": [
    "# Elimino los duplicados en 'id' \n",
    "data_movie = data_movie.drop_duplicates(subset = 'id')\n",
    "data_credits = data_credits.drop_duplicates(subset='id')"
   ]
  },
  {
   "cell_type": "code",
   "execution_count": null,
   "metadata": {},
   "outputs": [],
   "source": [
    "# Se uniran los dos datasets para conformar uno solo \n",
    "# se nesecita cambiar el tipo de dato para su posterior union\n",
    "data_movie['id'] = data_movie['id'].astype('int64')"
   ]
  },
  {
   "cell_type": "code",
   "execution_count": null,
   "metadata": {},
   "outputs": [],
   "source": [
    "#Se eliminan columnas que no serán de uso\n",
    "data_movie.drop(columns=['video','imdb_id','adult','original_title','poster_path','homepage'], inplace = True)\n"
   ]
  },
  {
   "cell_type": "code",
   "execution_count": null,
   "metadata": {},
   "outputs": [],
   "source": [
    "# se establece la union de los dataset movie y credits para un solo dataset\n",
    "d_concat = data_movie.merge(data_credits, on='id', how = 'inner')\n",
    "d_concat"
   ]
  },
  {
   "cell_type": "code",
   "execution_count": null,
   "metadata": {},
   "outputs": [],
   "source": [
    "# El dataset nos muestra que tiene campos anidados, se revisara como estan compuestos \n",
    "# para su posterior desanidado\n",
    "print(d_concat['belongs_to_collection'][0])\n",
    "print(d_concat['genres'][0])\n",
    "print(d_concat['production_companies'][0])\n",
    "print(d_concat['production_countries'][0])\n",
    "print(d_concat['spoken_languages'][0])\n",
    "print(d_concat['cast'][0])\n",
    "print(d_concat['crew'][0])"
   ]
  },
  {
   "cell_type": "code",
   "execution_count": null,
   "metadata": {},
   "outputs": [],
   "source": [
    "# Desanidamos la columna 'belongs_to_collection'\n",
    "d_concat['belongs_to_collection'] = d_concat['belongs_to_collection'].apply(lambda x:ast.literal_eval(x)['name'] if isinstance(x,str) else'').tolist()\n",
    "d_concat"
   ]
  },
  {
   "cell_type": "code",
   "execution_count": null,
   "metadata": {},
   "outputs": [],
   "source": [
    "# extraemos los generos especificos de las peliculas en el campo 'genres'\n",
    "d_concat['genres']= d_concat['genres'].str.replace(\"'\",'\"')\n",
    "d_concat['genres'] = d_concat['genres'].apply(lambda x:[item['name'] for item in json.loads(x)]).tolist()\n",
    "d_concat.head(3)"
   ]
  },
  {
   "cell_type": "code",
   "execution_count": null,
   "metadata": {},
   "outputs": [],
   "source": [
    "# Creamos una funcionn para desanidar \n",
    "# los campos 'Production_companies','Production_countries' y 'spoken_languages'\n",
    "def desanidar(a):\n",
    "    if pd.isna(a):\n",
    "        return none\n",
    "    else:\n",
    "        b = ast.literal_eval(a)\n",
    "        if isinstance(b,list):\n",
    "            return [i['name'] for i in b]\n",
    "            return none"
   ]
  },
  {
   "cell_type": "code",
   "execution_count": null,
   "metadata": {},
   "outputs": [],
   "source": [
    "#Aplicamos la funcion 'desanidar' en 'Production_companies'\n",
    "d_concat['production_companies'] = d_concat['production_companies'].apply(desanidar)\n",
    "d_concat['production_companies'].head(3)"
   ]
  },
  {
   "cell_type": "code",
   "execution_count": null,
   "metadata": {},
   "outputs": [],
   "source": [
    "#Aplicamos la funcion 'desanidar' en 'Production_countries'\n",
    "d_concat['production_countries'] = d_concat['production_countries'].apply(desanidar)\n",
    "d_concat['production_countries'].head(3)"
   ]
  },
  {
   "cell_type": "code",
   "execution_count": null,
   "metadata": {},
   "outputs": [],
   "source": [
    "#Aplicamos la funcion 'desanidar' a 'spoken_languages'\n",
    "d_concat['spoken_languages'] = d_concat['spoken_languages'].apply(desanidar)\n",
    "d_concat['spoken_languages'].head(3)"
   ]
  },
  {
   "cell_type": "code",
   "execution_count": null,
   "metadata": {},
   "outputs": [],
   "source": [
    "#Aplicamos la funcion 'desanidar' a 'cast'\n",
    "d_concat['cast'] = d_concat['cast'].apply(desanidar)\n",
    "d_concat['cast'].head(3)"
   ]
  },
  {
   "cell_type": "code",
   "execution_count": null,
   "metadata": {},
   "outputs": [],
   "source": [
    "#Para el campo 'crew' requerimos solo el nombre del director, y en este esta referencia en job \n",
    "# se nesecita crear una nueva funcion para extraer el nombre\n",
    "def desanidar_crew(a):\n",
    "    b = ast.literal_eval(a)\n",
    "    for i in b:\n",
    "        if i.get('job') == 'Director':\n",
    "            return i.get('name')\n",
    "    return None\n"
   ]
  },
  {
   "cell_type": "code",
   "execution_count": 36,
   "metadata": {},
   "outputs": [
    {
     "data": {
      "text/html": [
       "<div>\n",
       "<style scoped>\n",
       "    .dataframe tbody tr th:only-of-type {\n",
       "        vertical-align: middle;\n",
       "    }\n",
       "\n",
       "    .dataframe tbody tr th {\n",
       "        vertical-align: top;\n",
       "    }\n",
       "\n",
       "    .dataframe thead th {\n",
       "        text-align: right;\n",
       "    }\n",
       "</style>\n",
       "<table border=\"1\" class=\"dataframe\">\n",
       "  <thead>\n",
       "    <tr style=\"text-align: right;\">\n",
       "      <th></th>\n",
       "      <th>belongs_to_collection</th>\n",
       "      <th>budget</th>\n",
       "      <th>genres</th>\n",
       "      <th>id</th>\n",
       "      <th>original_language</th>\n",
       "      <th>overview</th>\n",
       "      <th>popularity</th>\n",
       "      <th>production_companies</th>\n",
       "      <th>production_countries</th>\n",
       "      <th>release_date</th>\n",
       "      <th>...</th>\n",
       "      <th>status</th>\n",
       "      <th>tagline</th>\n",
       "      <th>title</th>\n",
       "      <th>vote_average</th>\n",
       "      <th>vote_count</th>\n",
       "      <th>release_year</th>\n",
       "      <th>return</th>\n",
       "      <th>cast</th>\n",
       "      <th>crew</th>\n",
       "      <th>director</th>\n",
       "    </tr>\n",
       "  </thead>\n",
       "  <tbody>\n",
       "    <tr>\n",
       "      <th>0</th>\n",
       "      <td>Toy Story Collection</td>\n",
       "      <td>30000000.0</td>\n",
       "      <td>[Animation, Comedy, Family]</td>\n",
       "      <td>862</td>\n",
       "      <td>en</td>\n",
       "      <td>Led by Woody, Andy's toys live happily in his ...</td>\n",
       "      <td>21.946943</td>\n",
       "      <td>[Pixar Animation Studios]</td>\n",
       "      <td>[United States of America]</td>\n",
       "      <td>1995-10-30</td>\n",
       "      <td>...</td>\n",
       "      <td>Released</td>\n",
       "      <td>NaN</td>\n",
       "      <td>Toy Story</td>\n",
       "      <td>7.7</td>\n",
       "      <td>5415.0</td>\n",
       "      <td>1995.0</td>\n",
       "      <td>12.451801</td>\n",
       "      <td>[Tom Hanks, Tim Allen, Don Rickles, Jim Varney...</td>\n",
       "      <td>[{'credit_id': '52fe4284c3a36847f8024f49', 'de...</td>\n",
       "      <td>John Lasseter</td>\n",
       "    </tr>\n",
       "    <tr>\n",
       "      <th>1</th>\n",
       "      <td></td>\n",
       "      <td>65000000.0</td>\n",
       "      <td>[Adventure, Fantasy, Family]</td>\n",
       "      <td>8844</td>\n",
       "      <td>en</td>\n",
       "      <td>When siblings Judy and Peter discover an encha...</td>\n",
       "      <td>17.015539</td>\n",
       "      <td>[TriStar Pictures, Teitler Film, Interscope Co...</td>\n",
       "      <td>[United States of America]</td>\n",
       "      <td>1995-12-15</td>\n",
       "      <td>...</td>\n",
       "      <td>Released</td>\n",
       "      <td>Roll the dice and unleash the excitement!</td>\n",
       "      <td>Jumanji</td>\n",
       "      <td>6.9</td>\n",
       "      <td>2413.0</td>\n",
       "      <td>1995.0</td>\n",
       "      <td>4.043035</td>\n",
       "      <td>[Robin Williams, Jonathan Hyde, Kirsten Dunst,...</td>\n",
       "      <td>[{'credit_id': '52fe44bfc3a36847f80a7cd1', 'de...</td>\n",
       "      <td>Joe Johnston</td>\n",
       "    </tr>\n",
       "    <tr>\n",
       "      <th>2</th>\n",
       "      <td>Grumpy Old Men Collection</td>\n",
       "      <td>0.0</td>\n",
       "      <td>[Romance, Comedy]</td>\n",
       "      <td>15602</td>\n",
       "      <td>en</td>\n",
       "      <td>A family wedding reignites the ancient feud be...</td>\n",
       "      <td>11.712900</td>\n",
       "      <td>[Warner Bros., Lancaster Gate]</td>\n",
       "      <td>[United States of America]</td>\n",
       "      <td>1995-12-22</td>\n",
       "      <td>...</td>\n",
       "      <td>Released</td>\n",
       "      <td>Still Yelling. Still Fighting. Still Ready for...</td>\n",
       "      <td>Grumpier Old Men</td>\n",
       "      <td>6.5</td>\n",
       "      <td>92.0</td>\n",
       "      <td>1995.0</td>\n",
       "      <td>0.000000</td>\n",
       "      <td>[Walter Matthau, Jack Lemmon, Ann-Margret, Sop...</td>\n",
       "      <td>[{'credit_id': '52fe466a9251416c75077a89', 'de...</td>\n",
       "      <td>Howard Deutch</td>\n",
       "    </tr>\n",
       "  </tbody>\n",
       "</table>\n",
       "<p>3 rows × 23 columns</p>\n",
       "</div>"
      ],
      "text/plain": [
       "       belongs_to_collection      budget                        genres     id   \n",
       "0       Toy Story Collection  30000000.0   [Animation, Comedy, Family]    862  \\\n",
       "1                             65000000.0  [Adventure, Fantasy, Family]   8844   \n",
       "2  Grumpy Old Men Collection         0.0             [Romance, Comedy]  15602   \n",
       "\n",
       "  original_language                                           overview   \n",
       "0                en  Led by Woody, Andy's toys live happily in his ...  \\\n",
       "1                en  When siblings Judy and Peter discover an encha...   \n",
       "2                en  A family wedding reignites the ancient feud be...   \n",
       "\n",
       "   popularity                               production_companies   \n",
       "0   21.946943                          [Pixar Animation Studios]  \\\n",
       "1   17.015539  [TriStar Pictures, Teitler Film, Interscope Co...   \n",
       "2   11.712900                     [Warner Bros., Lancaster Gate]   \n",
       "\n",
       "         production_countries release_date  ...    status   \n",
       "0  [United States of America]   1995-10-30  ...  Released  \\\n",
       "1  [United States of America]   1995-12-15  ...  Released   \n",
       "2  [United States of America]   1995-12-22  ...  Released   \n",
       "\n",
       "                                             tagline             title   \n",
       "0                                                NaN         Toy Story  \\\n",
       "1          Roll the dice and unleash the excitement!           Jumanji   \n",
       "2  Still Yelling. Still Fighting. Still Ready for...  Grumpier Old Men   \n",
       "\n",
       "  vote_average vote_count release_year     return   \n",
       "0          7.7     5415.0       1995.0  12.451801  \\\n",
       "1          6.9     2413.0       1995.0   4.043035   \n",
       "2          6.5       92.0       1995.0   0.000000   \n",
       "\n",
       "                                                cast   \n",
       "0  [Tom Hanks, Tim Allen, Don Rickles, Jim Varney...  \\\n",
       "1  [Robin Williams, Jonathan Hyde, Kirsten Dunst,...   \n",
       "2  [Walter Matthau, Jack Lemmon, Ann-Margret, Sop...   \n",
       "\n",
       "                                                crew       director  \n",
       "0  [{'credit_id': '52fe4284c3a36847f8024f49', 'de...  John Lasseter  \n",
       "1  [{'credit_id': '52fe44bfc3a36847f80a7cd1', 'de...   Joe Johnston  \n",
       "2  [{'credit_id': '52fe466a9251416c75077a89', 'de...  Howard Deutch  \n",
       "\n",
       "[3 rows x 23 columns]"
      ]
     },
     "execution_count": 36,
     "metadata": {},
     "output_type": "execute_result"
    }
   ],
   "source": [
    "# Aplicamos la funcion 'desanidar_crew' a 'crew' y ademas se crea un nuevo campo 'director'\n",
    "d_concat['director'] = d_concat['crew'].apply(desanidar_crew) \n",
    "d_concat.head(3)"
   ]
  },
  {
   "cell_type": "code",
   "execution_count": 51,
   "metadata": {},
   "outputs": [],
   "source": [
    "#Creo un nuevo data set solo con los campos requeridos para realizar unas funciones\n",
    "# especificas para este proyecto\n",
    "Dataset_Final = d_concat[['id','title','genres','director','belongs_to_collection','production_companies','production_countries',\n",
    "                 'original_language','release_date','release_year','runtime','vote_average',\n",
    "                 'vote_count','popularity','revenue','budget','return']] "
   ]
  },
  {
   "cell_type": "code",
   "execution_count": 52,
   "metadata": {},
   "outputs": [
    {
     "data": {
      "text/html": [
       "<div>\n",
       "<style scoped>\n",
       "    .dataframe tbody tr th:only-of-type {\n",
       "        vertical-align: middle;\n",
       "    }\n",
       "\n",
       "    .dataframe tbody tr th {\n",
       "        vertical-align: top;\n",
       "    }\n",
       "\n",
       "    .dataframe thead th {\n",
       "        text-align: right;\n",
       "    }\n",
       "</style>\n",
       "<table border=\"1\" class=\"dataframe\">\n",
       "  <thead>\n",
       "    <tr style=\"text-align: right;\">\n",
       "      <th></th>\n",
       "      <th>id</th>\n",
       "      <th>title</th>\n",
       "      <th>genres</th>\n",
       "      <th>director</th>\n",
       "      <th>belongs_to_collection</th>\n",
       "      <th>production_companies</th>\n",
       "      <th>production_countries</th>\n",
       "      <th>original_language</th>\n",
       "      <th>release_date</th>\n",
       "      <th>release_year</th>\n",
       "      <th>runtime</th>\n",
       "      <th>vote_average</th>\n",
       "      <th>vote_count</th>\n",
       "      <th>popularity</th>\n",
       "      <th>revenue</th>\n",
       "      <th>budget</th>\n",
       "      <th>return</th>\n",
       "    </tr>\n",
       "  </thead>\n",
       "  <tbody>\n",
       "    <tr>\n",
       "      <th>0</th>\n",
       "      <td>862</td>\n",
       "      <td>Toy Story</td>\n",
       "      <td>[Animation, Comedy, Family]</td>\n",
       "      <td>John Lasseter</td>\n",
       "      <td>Toy Story Collection</td>\n",
       "      <td>[Pixar Animation Studios]</td>\n",
       "      <td>[United States of America]</td>\n",
       "      <td>en</td>\n",
       "      <td>1995-10-30</td>\n",
       "      <td>1995.0</td>\n",
       "      <td>81.0</td>\n",
       "      <td>7.7</td>\n",
       "      <td>5415.0</td>\n",
       "      <td>21.946943</td>\n",
       "      <td>373554033.0</td>\n",
       "      <td>30000000.0</td>\n",
       "      <td>12.451801</td>\n",
       "    </tr>\n",
       "    <tr>\n",
       "      <th>1</th>\n",
       "      <td>8844</td>\n",
       "      <td>Jumanji</td>\n",
       "      <td>[Adventure, Fantasy, Family]</td>\n",
       "      <td>Joe Johnston</td>\n",
       "      <td></td>\n",
       "      <td>[TriStar Pictures, Teitler Film, Interscope Co...</td>\n",
       "      <td>[United States of America]</td>\n",
       "      <td>en</td>\n",
       "      <td>1995-12-15</td>\n",
       "      <td>1995.0</td>\n",
       "      <td>104.0</td>\n",
       "      <td>6.9</td>\n",
       "      <td>2413.0</td>\n",
       "      <td>17.015539</td>\n",
       "      <td>262797249.0</td>\n",
       "      <td>65000000.0</td>\n",
       "      <td>4.043035</td>\n",
       "    </tr>\n",
       "    <tr>\n",
       "      <th>2</th>\n",
       "      <td>15602</td>\n",
       "      <td>Grumpier Old Men</td>\n",
       "      <td>[Romance, Comedy]</td>\n",
       "      <td>Howard Deutch</td>\n",
       "      <td>Grumpy Old Men Collection</td>\n",
       "      <td>[Warner Bros., Lancaster Gate]</td>\n",
       "      <td>[United States of America]</td>\n",
       "      <td>en</td>\n",
       "      <td>1995-12-22</td>\n",
       "      <td>1995.0</td>\n",
       "      <td>101.0</td>\n",
       "      <td>6.5</td>\n",
       "      <td>92.0</td>\n",
       "      <td>11.712900</td>\n",
       "      <td>0.0</td>\n",
       "      <td>0.0</td>\n",
       "      <td>0.000000</td>\n",
       "    </tr>\n",
       "  </tbody>\n",
       "</table>\n",
       "</div>"
      ],
      "text/plain": [
       "      id             title                        genres       director   \n",
       "0    862         Toy Story   [Animation, Comedy, Family]  John Lasseter  \\\n",
       "1   8844           Jumanji  [Adventure, Fantasy, Family]   Joe Johnston   \n",
       "2  15602  Grumpier Old Men             [Romance, Comedy]  Howard Deutch   \n",
       "\n",
       "       belongs_to_collection   \n",
       "0       Toy Story Collection  \\\n",
       "1                              \n",
       "2  Grumpy Old Men Collection   \n",
       "\n",
       "                                production_companies   \n",
       "0                          [Pixar Animation Studios]  \\\n",
       "1  [TriStar Pictures, Teitler Film, Interscope Co...   \n",
       "2                     [Warner Bros., Lancaster Gate]   \n",
       "\n",
       "         production_countries original_language release_date  release_year   \n",
       "0  [United States of America]                en   1995-10-30        1995.0  \\\n",
       "1  [United States of America]                en   1995-12-15        1995.0   \n",
       "2  [United States of America]                en   1995-12-22        1995.0   \n",
       "\n",
       "   runtime  vote_average  vote_count  popularity      revenue      budget   \n",
       "0     81.0           7.7      5415.0   21.946943  373554033.0  30000000.0  \\\n",
       "1    104.0           6.9      2413.0   17.015539  262797249.0  65000000.0   \n",
       "2    101.0           6.5        92.0   11.712900          0.0         0.0   \n",
       "\n",
       "      return  \n",
       "0  12.451801  \n",
       "1   4.043035  \n",
       "2   0.000000  "
      ]
     },
     "execution_count": 52,
     "metadata": {},
     "output_type": "execute_result"
    }
   ],
   "source": [
    "Dataset_Final.head(3)"
   ]
  },
  {
   "cell_type": "code",
   "execution_count": 54,
   "metadata": {},
   "outputs": [],
   "source": [
    "# Listo tenemos nuestro de dasetfinal, exportamos el archivo a .csv para trabajar las funciones\n",
    "Dataset_Final.to_csv(r\"C:\\Users\\angel\\Desktop\\RATG\\Datasciencie\\Henry-Proyect\\Dataset_Final.csv\")"
   ]
  },
  {
   "cell_type": "code",
   "execution_count": 40,
   "metadata": {},
   "outputs": [],
   "source": [
    "d_concat.to_csv(r\"C:\\Users\\angel\\Desktop\\RATG\\Datasciencie\\Nuevo Proyecto\\Proyecto-Individual\\dataset\\Dataset_PI.csv\")"
   ]
  }
 ],
 "metadata": {
  "kernelspec": {
   "display_name": "Python 3",
   "language": "python",
   "name": "python3"
  },
  "language_info": {
   "codemirror_mode": {
    "name": "ipython",
    "version": 3
   },
   "file_extension": ".py",
   "mimetype": "text/x-python",
   "name": "python",
   "nbconvert_exporter": "python",
   "pygments_lexer": "ipython3",
   "version": "3.10.11"
  },
  "orig_nbformat": 4
 },
 "nbformat": 4,
 "nbformat_minor": 2
}
