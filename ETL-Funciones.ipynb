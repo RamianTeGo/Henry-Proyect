{
 "cells": [
  {
   "cell_type": "markdown",
   "metadata": {},
   "source": [
    "En este apartado se trabaja los archivos csv d_games, d_item_user, d_reviuws\n",
    "en el que se realizan transformaciones y se extraen campos especificos para la creacion de nuevos DataSet:\n",
    "- df_gastos\n",
    "- df_genre_rankin\n",
    "- df_genre\n",
    "- df_developer\n",
    "\n",
    "Los cuales son de utilidad para el desarrollo de las funciones de consultas"
   ]
  },
  {
   "cell_type": "code",
   "execution_count": 1,
   "metadata": {},
   "outputs": [],
   "source": [
    "\n",
    "# Importamos librerias\n",
    "import pandas as pd\n",
    "import ast"
   ]
  },
  {
   "cell_type": "code",
   "execution_count": 3,
   "metadata": {},
   "outputs": [],
   "source": [
    "# Se cargan los archivos csv\n",
    "df_game = pd.read_csv('d_games.csv')\n",
    "df_item = pd.read_csv('d_item_user.csv')\n",
    "df_reviu = pd.read_csv('d_reviuws.csv')"
   ]
  },
  {
   "cell_type": "markdown",
   "metadata": {},
   "source": [
    "1. FUNCION USERDATA\n",
    "\n",
    "Desarrollo y creacion de la funcion\n",
    "\n",
    "Debe devolver cantidad de dinero gastado por el usuario, el porcentaje de recomendación en base a reviews.recommend y cantidad de items."
   ]
  },
  {
   "cell_type": "code",
   "execution_count": 2,
   "metadata": {},
   "outputs": [
    {
     "ename": "NameError",
     "evalue": "name 'df_item' is not defined",
     "output_type": "error",
     "traceback": [
      "\u001b[1;31m---------------------------------------------------------------------------\u001b[0m",
      "\u001b[1;31mNameError\u001b[0m                                 Traceback (most recent call last)",
      "\u001b[1;32mc:\\Users\\angel\\Desktop\\RATG\\Datasciencie\\Proyecto\\Dataset14\\ETL-Funciones.ipynb Cell 5\u001b[0m in \u001b[0;36m2\n\u001b[0;32m      <a href='vscode-notebook-cell:/c%3A/Users/angel/Desktop/RATG/Datasciencie/Proyecto/Dataset14/ETL-Funciones.ipynb#W4sZmlsZQ%3D%3D?line=0'>1</a>\u001b[0m \u001b[39m#Se nesecita crear un dataframe con los sgte campos de df_item\u001b[39;00m\n\u001b[1;32m----> <a href='vscode-notebook-cell:/c%3A/Users/angel/Desktop/RATG/Datasciencie/Proyecto/Dataset14/ETL-Funciones.ipynb#W4sZmlsZQ%3D%3D?line=1'>2</a>\u001b[0m d_gastos \u001b[39m=\u001b[39m df_item[[\u001b[39m'\u001b[39m\u001b[39mitems_count\u001b[39m\u001b[39m'\u001b[39m, \u001b[39m'\u001b[39m\u001b[39muser_id\u001b[39m\u001b[39m'\u001b[39m, \u001b[39m'\u001b[39m\u001b[39mitem_id\u001b[39m\u001b[39m'\u001b[39m]]\n",
      "\u001b[1;31mNameError\u001b[0m: name 'df_item' is not defined"
     ]
    }
   ],
   "source": [
    "#Se nesecita crear un dataframe con los sgte campos de df_item\n",
    "d_gastos = df_item[['items_count', 'user_id', 'item_id']]\n"
   ]
  },
  {
   "cell_type": "code",
   "execution_count": 9,
   "metadata": {},
   "outputs": [],
   "source": [
    "# Se crea el Dataframe con los precios, se eliminan duplicados y # Se renombra 'id' por 'item_id'\n",
    "\n",
    "d_precio = df_game[['price', 'id']]\n",
    "d_precio = d_precio.drop_duplicates(subset='id', keep='first')\n",
    "# Se renombra 'id' por 'item_id' para unir mas adelante\n",
    "d_precio = d_precio.rename(columns={'id':'item_id'})\n"
   ]
  },
  {
   "cell_type": "code",
   "execution_count": 10,
   "metadata": {},
   "outputs": [],
   "source": [
    "# Se realiza la unios de los dos daataset anteriores atraves del campo 'item_id'\n",
    "d_gastos = d_gastos.merge(d_precio, on='item_id', how='left')\n"
   ]
  },
  {
   "cell_type": "code",
   "execution_count": 11,
   "metadata": {},
   "outputs": [],
   "source": [
    "#Se elimina la columna 'item_id' y se agrupa por usuario para sumar la cantidad gastada por usuario.\n",
    "d_gastos = d_gastos.drop('item_id', axis=1)\n",
    "\n",
    "\n"
   ]
  },
  {
   "cell_type": "code",
   "execution_count": 13,
   "metadata": {},
   "outputs": [
    {
     "data": {
      "text/html": [
       "<div>\n",
       "<style scoped>\n",
       "    .dataframe tbody tr th:only-of-type {\n",
       "        vertical-align: middle;\n",
       "    }\n",
       "\n",
       "    .dataframe tbody tr th {\n",
       "        vertical-align: top;\n",
       "    }\n",
       "\n",
       "    .dataframe thead th {\n",
       "        text-align: right;\n",
       "    }\n",
       "</style>\n",
       "<table border=\"1\" class=\"dataframe\">\n",
       "  <thead>\n",
       "    <tr style=\"text-align: right;\">\n",
       "      <th></th>\n",
       "      <th>items_count</th>\n",
       "      <th>user_id</th>\n",
       "      <th>price</th>\n",
       "    </tr>\n",
       "  </thead>\n",
       "  <tbody>\n",
       "    <tr>\n",
       "      <th>0</th>\n",
       "      <td>277</td>\n",
       "      <td>76561197970982479</td>\n",
       "      <td>9.99</td>\n",
       "    </tr>\n",
       "    <tr>\n",
       "      <th>1</th>\n",
       "      <td>277</td>\n",
       "      <td>76561197970982479</td>\n",
       "      <td>4.99</td>\n",
       "    </tr>\n",
       "    <tr>\n",
       "      <th>2</th>\n",
       "      <td>277</td>\n",
       "      <td>76561197970982479</td>\n",
       "      <td>4.99</td>\n",
       "    </tr>\n",
       "    <tr>\n",
       "      <th>3</th>\n",
       "      <td>277</td>\n",
       "      <td>76561197970982479</td>\n",
       "      <td>4.99</td>\n",
       "    </tr>\n",
       "    <tr>\n",
       "      <th>4</th>\n",
       "      <td>277</td>\n",
       "      <td>76561197970982479</td>\n",
       "      <td>4.99</td>\n",
       "    </tr>\n",
       "  </tbody>\n",
       "</table>\n",
       "</div>"
      ],
      "text/plain": [
       "   items_count            user_id  price\n",
       "0          277  76561197970982479   9.99\n",
       "1          277  76561197970982479   4.99\n",
       "2          277  76561197970982479   4.99\n",
       "3          277  76561197970982479   4.99\n",
       "4          277  76561197970982479   4.99"
      ]
     },
     "execution_count": 13,
     "metadata": {},
     "output_type": "execute_result"
    }
   ],
   "source": [
    "d_gastos.head()"
   ]
  },
  {
   "cell_type": "code",
   "execution_count": 12,
   "metadata": {},
   "outputs": [
    {
     "data": {
      "text/html": [
       "<div>\n",
       "<style scoped>\n",
       "    .dataframe tbody tr th:only-of-type {\n",
       "        vertical-align: middle;\n",
       "    }\n",
       "\n",
       "    .dataframe tbody tr th {\n",
       "        vertical-align: top;\n",
       "    }\n",
       "\n",
       "    .dataframe thead th {\n",
       "        text-align: right;\n",
       "    }\n",
       "</style>\n",
       "<table border=\"1\" class=\"dataframe\">\n",
       "  <thead>\n",
       "    <tr style=\"text-align: right;\">\n",
       "      <th></th>\n",
       "      <th>user_id</th>\n",
       "      <th>price</th>\n",
       "    </tr>\n",
       "  </thead>\n",
       "  <tbody>\n",
       "    <tr>\n",
       "      <th>0</th>\n",
       "      <td>--000--</td>\n",
       "      <td>397.78</td>\n",
       "    </tr>\n",
       "    <tr>\n",
       "      <th>1</th>\n",
       "      <td>--ace--</td>\n",
       "      <td>166.82</td>\n",
       "    </tr>\n",
       "    <tr>\n",
       "      <th>2</th>\n",
       "      <td>--ionex--</td>\n",
       "      <td>99.93</td>\n",
       "    </tr>\n",
       "    <tr>\n",
       "      <th>3</th>\n",
       "      <td>-2SV-vuLB-Kg</td>\n",
       "      <td>427.50</td>\n",
       "    </tr>\n",
       "    <tr>\n",
       "      <th>4</th>\n",
       "      <td>-404PageNotFound-</td>\n",
       "      <td>1509.32</td>\n",
       "    </tr>\n",
       "  </tbody>\n",
       "</table>\n",
       "</div>"
      ],
      "text/plain": [
       "             user_id    price\n",
       "0            --000--   397.78\n",
       "1            --ace--   166.82\n",
       "2          --ionex--    99.93\n",
       "3       -2SV-vuLB-Kg   427.50\n",
       "4  -404PageNotFound-  1509.32"
      ]
     },
     "execution_count": 12,
     "metadata": {},
     "output_type": "execute_result"
    }
   ],
   "source": [
    "d_gastos_user = d_gastos.groupby('user_id')['price'].sum().reset_index()\n",
    "d_gastos_user.head()\n"
   ]
  },
  {
   "cell_type": "code",
   "execution_count": 14,
   "metadata": {},
   "outputs": [
    {
     "data": {
      "text/html": [
       "<div>\n",
       "<style scoped>\n",
       "    .dataframe tbody tr th:only-of-type {\n",
       "        vertical-align: middle;\n",
       "    }\n",
       "\n",
       "    .dataframe tbody tr th {\n",
       "        vertical-align: top;\n",
       "    }\n",
       "\n",
       "    .dataframe thead th {\n",
       "        text-align: right;\n",
       "    }\n",
       "</style>\n",
       "<table border=\"1\" class=\"dataframe\">\n",
       "  <thead>\n",
       "    <tr style=\"text-align: right;\">\n",
       "      <th></th>\n",
       "      <th>items_count</th>\n",
       "      <th>user_id</th>\n",
       "    </tr>\n",
       "  </thead>\n",
       "  <tbody>\n",
       "    <tr>\n",
       "      <th>0</th>\n",
       "      <td>277</td>\n",
       "      <td>76561197970982479</td>\n",
       "    </tr>\n",
       "    <tr>\n",
       "      <th>277</th>\n",
       "      <td>888</td>\n",
       "      <td>js41637</td>\n",
       "    </tr>\n",
       "    <tr>\n",
       "      <th>1165</th>\n",
       "      <td>137</td>\n",
       "      <td>evcentric</td>\n",
       "    </tr>\n",
       "    <tr>\n",
       "      <th>1302</th>\n",
       "      <td>328</td>\n",
       "      <td>Riot-Punch</td>\n",
       "    </tr>\n",
       "    <tr>\n",
       "      <th>1630</th>\n",
       "      <td>541</td>\n",
       "      <td>doctr</td>\n",
       "    </tr>\n",
       "  </tbody>\n",
       "</table>\n",
       "</div>"
      ],
      "text/plain": [
       "      items_count            user_id\n",
       "0             277  76561197970982479\n",
       "277           888            js41637\n",
       "1165          137          evcentric\n",
       "1302          328         Riot-Punch\n",
       "1630          541              doctr"
      ]
     },
     "execution_count": 14,
     "metadata": {},
     "output_type": "execute_result"
    }
   ],
   "source": [
    "#Cantidad de item x usuario\n",
    "d_cant_item = d_gastos[['items_count', 'user_id']]\n",
    "d_cant_item = d_cant_item.drop_duplicates(subset='user_id', keep='first')\n",
    "\n",
    "d_cant_item.head()\n"
   ]
  },
  {
   "cell_type": "code",
   "execution_count": 15,
   "metadata": {},
   "outputs": [
    {
     "data": {
      "text/html": [
       "<div>\n",
       "<style scoped>\n",
       "    .dataframe tbody tr th:only-of-type {\n",
       "        vertical-align: middle;\n",
       "    }\n",
       "\n",
       "    .dataframe tbody tr th {\n",
       "        vertical-align: top;\n",
       "    }\n",
       "\n",
       "    .dataframe thead th {\n",
       "        text-align: right;\n",
       "    }\n",
       "</style>\n",
       "<table border=\"1\" class=\"dataframe\">\n",
       "  <thead>\n",
       "    <tr style=\"text-align: right;\">\n",
       "      <th></th>\n",
       "      <th>items_count</th>\n",
       "      <th>user_id</th>\n",
       "      <th>price</th>\n",
       "    </tr>\n",
       "  </thead>\n",
       "  <tbody>\n",
       "    <tr>\n",
       "      <th>0</th>\n",
       "      <td>58</td>\n",
       "      <td>--000--</td>\n",
       "      <td>397.78</td>\n",
       "    </tr>\n",
       "    <tr>\n",
       "      <th>1</th>\n",
       "      <td>44</td>\n",
       "      <td>--ace--</td>\n",
       "      <td>166.82</td>\n",
       "    </tr>\n",
       "    <tr>\n",
       "      <th>2</th>\n",
       "      <td>23</td>\n",
       "      <td>--ionex--</td>\n",
       "      <td>99.93</td>\n",
       "    </tr>\n",
       "    <tr>\n",
       "      <th>3</th>\n",
       "      <td>68</td>\n",
       "      <td>-2SV-vuLB-Kg</td>\n",
       "      <td>427.50</td>\n",
       "    </tr>\n",
       "    <tr>\n",
       "      <th>4</th>\n",
       "      <td>149</td>\n",
       "      <td>-404PageNotFound-</td>\n",
       "      <td>1509.32</td>\n",
       "    </tr>\n",
       "  </tbody>\n",
       "</table>\n",
       "</div>"
      ],
      "text/plain": [
       "   items_count            user_id    price\n",
       "0           58            --000--   397.78\n",
       "1           44            --ace--   166.82\n",
       "2           23          --ionex--    99.93\n",
       "3           68       -2SV-vuLB-Kg   427.50\n",
       "4          149  -404PageNotFound-  1509.32"
      ]
     },
     "execution_count": 15,
     "metadata": {},
     "output_type": "execute_result"
    }
   ],
   "source": [
    "# Se concatenan los Dataframe cantidad de item y gastos\n",
    "d_gastos = d_cant_item.merge(d_gastos_user, on='user_id', how='right')\n",
    "d_gastos.head()\n"
   ]
  },
  {
   "cell_type": "code",
   "execution_count": 16,
   "metadata": {},
   "outputs": [],
   "source": [
    "# Exportamos el Dataframe gastos\n",
    "d_gastos.to_csv('df_gastos.csv')"
   ]
  },
  {
   "cell_type": "code",
   "execution_count": 17,
   "metadata": {},
   "outputs": [],
   "source": [
    "# Creamos la funcion 'userdata'\n",
    "def userdata(user_id):\n",
    "    \n",
    "    usuario = df_reviu[df_reviu['user_id'] == user_id]\n",
    "    cantidad_dinero = d_gastos[d_gastos['user_id']== user_id]['price'].iloc[0]\n",
    "    count_items = d_gastos[d_gastos['user_id']== user_id]['items_count'].iloc[0]\n",
    "    \n",
    "    total_recomendaciones = usuario['recommend'].sum()\n",
    "    total_reviews = len(df_reviu['user_id'].unique())\n",
    "    porcentaje_recomendaciones = (total_recomendaciones / total_reviews) * 100\n",
    "\n",
    "    return {\n",
    "        'cantidad_dinero': cantidad_dinero,\n",
    "        'porcentaje_recomendacion': round(porcentaje_recomendaciones, 2),\n",
    "        'total_items': count_items.astype(int)\n",
    "    }"
   ]
  },
  {
   "cell_type": "code",
   "execution_count": 18,
   "metadata": {},
   "outputs": [
    {
     "data": {
      "text/plain": [
       "{'cantidad_dinero': 189.84, 'porcentaje_recomendacion': 0.0, 'total_items': 23}"
      ]
     },
     "execution_count": 18,
     "metadata": {},
     "output_type": "execute_result"
    }
   ],
   "source": [
    "userdata('EchoXSilence')"
   ]
  },
  {
   "cell_type": "markdown",
   "metadata": {},
   "source": [
    "2. FUNCION COUNTREVIEW\n",
    "\n",
    "Creacion de la funcion\n",
    "\n",
    "Cantidad de usuarios que realizaron reviews entre las fechas dadas y, el porcentaje de recomendación de los mismos en base a reviews.recommend."
   ]
  },
  {
   "cell_type": "code",
   "execution_count": 19,
   "metadata": {},
   "outputs": [],
   "source": [
    "def countreviews(fi, ff):\n",
    "    \n",
    "    userfechas = df_reviu[(df_reviu['date'] >= fi) & (df_reviu['date'] <= ff)]\n",
    "    total_user = userfechas['user_id'].nunique()\n",
    "    recomendacion = len(userfechas)\n",
    "    total_recomendaciones = userfechas['recommend'].sum()\n",
    "    porcentaje = (total_recomendaciones / recomendacion) * 100\n",
    "    \n",
    "    return {\n",
    "        'total_review': total_user,\n",
    "        'porcentaje': round(porcentaje,2)\n",
    "    }"
   ]
  },
  {
   "cell_type": "code",
   "execution_count": 20,
   "metadata": {},
   "outputs": [
    {
     "data": {
      "text/plain": [
       "{'total_review': 807, 'porcentaje': 98.63}"
      ]
     },
     "execution_count": 20,
     "metadata": {},
     "output_type": "execute_result"
    }
   ],
   "source": [
    "countreviews('2011-10-05', '2012-12-10')\n"
   ]
  },
  {
   "cell_type": "markdown",
   "metadata": {},
   "source": [
    "3. FUNCION GENRE\n",
    "\n",
    "Desarrollo y Creacion de la Funcion\n",
    "\n",
    "Devuelve el puesto en el que se encuentra un género sobre el ranking de los mismos analizado bajo la columna PlayTimeForever."
   ]
  },
  {
   "cell_type": "code",
   "execution_count": 17,
   "metadata": {},
   "outputs": [],
   "source": [
    "# Se concatenan estos dos Dataframe para extraer los camposcrequeridos para la funcion \n",
    "df_joined = pd.merge(df_item, df_game, left_on='item_id', right_on='id')\n"
   ]
  },
  {
   "cell_type": "code",
   "execution_count": 24,
   "metadata": {},
   "outputs": [
    {
     "data": {
      "text/plain": [
       "(4167341, 18)"
      ]
     },
     "execution_count": 24,
     "metadata": {},
     "output_type": "execute_result"
    }
   ],
   "source": [
    "df_joined.shape"
   ]
  },
  {
   "cell_type": "code",
   "execution_count": 26,
   "metadata": {},
   "outputs": [],
   "source": [
    "# Se extraen en nuevo Dataframe los sgte genres, user_id, user_url, playtime\n",
    "df_genre = subset_df[['genres', 'user_id', 'user_url','playtime_forever']]\n"
   ]
  },
  {
   "cell_type": "code",
   "execution_count": 27,
   "metadata": {},
   "outputs": [
    {
     "name": "stderr",
     "output_type": "stream",
     "text": [
      "C:\\Users\\angel\\AppData\\Local\\Temp\\ipykernel_14764\\3790331642.py:2: SettingWithCopyWarning: \n",
      "A value is trying to be set on a copy of a slice from a DataFrame.\n",
      "Try using .loc[row_indexer,col_indexer] = value instead\n",
      "\n",
      "See the caveats in the documentation: https://pandas.pydata.org/pandas-docs/stable/user_guide/indexing.html#returning-a-view-versus-a-copy\n",
      "  df_genre['genres'] = df_genre['genres'].apply(lambda x: ast.literal_eval(x) if isinstance(x, str) else x)\n"
     ]
    }
   ],
   "source": [
    "# Del campo genres utilizando ast.literal_eval para las listas de generos\n",
    "df_genre['genres'] = df_genre['genres'].apply(lambda x: ast.literal_eval(x) if isinstance(x, str) else x)\n",
    "\n"
   ]
  },
  {
   "cell_type": "code",
   "execution_count": 30,
   "metadata": {},
   "outputs": [
    {
     "data": {
      "text/html": [
       "<div>\n",
       "<style scoped>\n",
       "    .dataframe tbody tr th:only-of-type {\n",
       "        vertical-align: middle;\n",
       "    }\n",
       "\n",
       "    .dataframe tbody tr th {\n",
       "        vertical-align: top;\n",
       "    }\n",
       "\n",
       "    .dataframe thead th {\n",
       "        text-align: right;\n",
       "    }\n",
       "</style>\n",
       "<table border=\"1\" class=\"dataframe\">\n",
       "  <thead>\n",
       "    <tr style=\"text-align: right;\">\n",
       "      <th></th>\n",
       "      <th>genres</th>\n",
       "      <th>user_id</th>\n",
       "      <th>user_url</th>\n",
       "      <th>playtime_forever</th>\n",
       "    </tr>\n",
       "  </thead>\n",
       "  <tbody>\n",
       "    <tr>\n",
       "      <th>0</th>\n",
       "      <td>Action</td>\n",
       "      <td>76561197970982479</td>\n",
       "      <td>http://steamcommunity.com/profiles/76561197970...</td>\n",
       "      <td>6</td>\n",
       "    </tr>\n",
       "    <tr>\n",
       "      <th>1</th>\n",
       "      <td>Action</td>\n",
       "      <td>js41637</td>\n",
       "      <td>http://steamcommunity.com/id/js41637</td>\n",
       "      <td>0</td>\n",
       "    </tr>\n",
       "    <tr>\n",
       "      <th>2</th>\n",
       "      <td>Action</td>\n",
       "      <td>Riot-Punch</td>\n",
       "      <td>http://steamcommunity.com/id/Riot-Punch</td>\n",
       "      <td>0</td>\n",
       "    </tr>\n",
       "    <tr>\n",
       "      <th>3</th>\n",
       "      <td>Action</td>\n",
       "      <td>doctr</td>\n",
       "      <td>http://steamcommunity.com/id/doctr</td>\n",
       "      <td>93</td>\n",
       "    </tr>\n",
       "    <tr>\n",
       "      <th>4</th>\n",
       "      <td>Action</td>\n",
       "      <td>corrupted_soul</td>\n",
       "      <td>http://steamcommunity.com/id/corrupted_soul</td>\n",
       "      <td>108</td>\n",
       "    </tr>\n",
       "  </tbody>\n",
       "</table>\n",
       "</div>"
      ],
      "text/plain": [
       "   genres            user_id   \n",
       "0  Action  76561197970982479  \\\n",
       "1  Action            js41637   \n",
       "2  Action         Riot-Punch   \n",
       "3  Action              doctr   \n",
       "4  Action     corrupted_soul   \n",
       "\n",
       "                                            user_url  playtime_forever  \n",
       "0  http://steamcommunity.com/profiles/76561197970...                 6  \n",
       "1               http://steamcommunity.com/id/js41637                 0  \n",
       "2            http://steamcommunity.com/id/Riot-Punch                 0  \n",
       "3                 http://steamcommunity.com/id/doctr                93  \n",
       "4        http://steamcommunity.com/id/corrupted_soul               108  "
      ]
     },
     "execution_count": 30,
     "metadata": {},
     "output_type": "execute_result"
    }
   ],
   "source": [
    "# Se crea cada genero como un nuevo registro\n",
    "df_genre = df_genre.explode('genres')\n",
    "df_genre.head()\n"
   ]
  },
  {
   "cell_type": "code",
   "execution_count": 82,
   "metadata": {},
   "outputs": [],
   "source": [
    "# Se obtiene la suma de playtime para cada genero\n",
    "df_genre_t = df_genre.groupby('genres').agg({'playtime_forever': 'sum'}).reset_index()\n"
   ]
  },
  {
   "cell_type": "code",
   "execution_count": 83,
   "metadata": {},
   "outputs": [],
   "source": [
    "# Se ordenan de mayor a menor de platime cada registro\n",
    "df_genre_t = df_genre_t.sort_values(by='playtime_forever', ascending=False).reset_index(drop=True)\n"
   ]
  },
  {
   "cell_type": "code",
   "execution_count": 84,
   "metadata": {},
   "outputs": [
    {
     "data": {
      "text/html": [
       "<div>\n",
       "<style scoped>\n",
       "    .dataframe tbody tr th:only-of-type {\n",
       "        vertical-align: middle;\n",
       "    }\n",
       "\n",
       "    .dataframe tbody tr th {\n",
       "        vertical-align: top;\n",
       "    }\n",
       "\n",
       "    .dataframe thead th {\n",
       "        text-align: right;\n",
       "    }\n",
       "</style>\n",
       "<table border=\"1\" class=\"dataframe\">\n",
       "  <thead>\n",
       "    <tr style=\"text-align: right;\">\n",
       "      <th></th>\n",
       "      <th>genres</th>\n",
       "      <th>playtime_forever</th>\n",
       "      <th>ranking</th>\n",
       "    </tr>\n",
       "  </thead>\n",
       "  <tbody>\n",
       "    <tr>\n",
       "      <th>0</th>\n",
       "      <td>Action</td>\n",
       "      <td>3070177095</td>\n",
       "      <td>1</td>\n",
       "    </tr>\n",
       "    <tr>\n",
       "      <th>1</th>\n",
       "      <td>Indie</td>\n",
       "      <td>1475182802</td>\n",
       "      <td>2</td>\n",
       "    </tr>\n",
       "    <tr>\n",
       "      <th>2</th>\n",
       "      <td>RPG</td>\n",
       "      <td>1027647746</td>\n",
       "      <td>3</td>\n",
       "    </tr>\n",
       "    <tr>\n",
       "      <th>3</th>\n",
       "      <td>Adventure</td>\n",
       "      <td>893956775</td>\n",
       "      <td>4</td>\n",
       "    </tr>\n",
       "    <tr>\n",
       "      <th>4</th>\n",
       "      <td>Simulation</td>\n",
       "      <td>855259647</td>\n",
       "      <td>5</td>\n",
       "    </tr>\n",
       "  </tbody>\n",
       "</table>\n",
       "</div>"
      ],
      "text/plain": [
       "       genres  playtime_forever  ranking\n",
       "0      Action        3070177095        1\n",
       "1       Indie        1475182802        2\n",
       "2         RPG        1027647746        3\n",
       "3   Adventure         893956775        4\n",
       "4  Simulation         855259647        5"
      ]
     },
     "execution_count": 84,
     "metadata": {},
     "output_type": "execute_result"
    }
   ],
   "source": [
    "# Se establece un campo ranking de playtime \n",
    "df_genre_t['ranking'] = range(1, len(df_genre_t)+1)\n",
    "df_genre_t.head()\n"
   ]
  },
  {
   "cell_type": "code",
   "execution_count": 90,
   "metadata": {},
   "outputs": [],
   "source": [
    "# Se crea el archivo csv de ranking\n",
    "df_genre_t.to_csv('df_genre_rankink.csv')"
   ]
  },
  {
   "cell_type": "code",
   "execution_count": 29,
   "metadata": {},
   "outputs": [],
   "source": [
    "# Se crea el archivo csv de los generos\n",
    "df_genre.to_csv('df_genre.csv')"
   ]
  },
  {
   "cell_type": "code",
   "execution_count": 97,
   "metadata": {},
   "outputs": [],
   "source": [
    "# Se establece la funcion \n",
    "def genre(genre: str):\n",
    "\n",
    "    ranking = df_genre_t['ranking'][df_genre_t['genres'] == genre]\n",
    "    ranking = int(ranking.iloc[0])\n",
    "\n",
    "    ptf = df_genre_t['playtime_forever'][df_genre_t['genres'] == genre]\n",
    "    ptf = int(ptf.iloc[0])\n",
    "\n",
    "    info = {'Ranking': ranking,\n",
    "            'playtime': ptf}\n",
    "\n",
    "    return info"
   ]
  },
  {
   "cell_type": "code",
   "execution_count": 98,
   "metadata": {},
   "outputs": [
    {
     "data": {
      "text/plain": [
       "{'Ranking': 2, 'playtime': 1475182802}"
      ]
     },
     "execution_count": 98,
     "metadata": {},
     "output_type": "execute_result"
    }
   ],
   "source": [
    "genre('Indie')"
   ]
  },
  {
   "cell_type": "markdown",
   "metadata": {},
   "source": [
    "4. FUNCION USER FORGENRE\n",
    "\n",
    "Creacion de la funcion\n",
    "\n",
    "Top 5 de usuarios con más horas de juego en el género dado, con su URL (del user) y user_id."
   ]
  },
  {
   "cell_type": "code",
   "execution_count": 87,
   "metadata": {},
   "outputs": [],
   "source": [
    "# Se Crea la Funcion \n",
    "def userforgenre(genero):\n",
    "    data = df_genre[df_genre['genres'] == genero]\n",
    "    top = data.groupby(['user_url', 'user_id'])['playtime_forever'].sum().nlargest(5).reset_index()\n",
    "    \n",
    "    top_users = {}\n",
    "    for index, row in top.iterrows():\n",
    "        user_info = {\n",
    "            'user_id': row['user_id'],\n",
    "            'user_url': row['user_url']\n",
    "        }\n",
    "        top_users[index + 1] = user_info\n",
    "    \n",
    "    return top_users"
   ]
  },
  {
   "cell_type": "code",
   "execution_count": 99,
   "metadata": {},
   "outputs": [
    {
     "data": {
      "text/plain": [
       "{1: {'user_id': 'REBAS_AS_F-T',\n",
       "  'user_url': 'http://steamcommunity.com/id/REBAS_AS_F-T'},\n",
       " 2: {'user_id': 'jimmynoe',\n",
       "  'user_url': 'http://steamcommunity.com/id/jimmynoe'},\n",
       " 3: {'user_id': 'shinomegami',\n",
       "  'user_url': 'http://steamcommunity.com/id/shinomegami'},\n",
       " 4: {'user_id': 'Steamified',\n",
       "  'user_url': 'http://steamcommunity.com/id/Steamified'},\n",
       " 5: {'user_id': 'idonothack',\n",
       "  'user_url': 'http://steamcommunity.com/id/idonothack'}}"
      ]
     },
     "execution_count": 99,
     "metadata": {},
     "output_type": "execute_result"
    }
   ],
   "source": [
    "userforgenre('Indie')"
   ]
  },
  {
   "cell_type": "markdown",
   "metadata": {},
   "source": [
    "5. FUNCION DEVELOPER\n",
    "\n",
    "Desarrollo y creacion\n",
    "\n",
    "Cantidad de items y porcentaje de contenido Free por año según empresa desarrolladora"
   ]
  },
  {
   "cell_type": "code",
   "execution_count": 30,
   "metadata": {},
   "outputs": [
    {
     "data": {
      "text/html": [
       "<div>\n",
       "<style scoped>\n",
       "    .dataframe tbody tr th:only-of-type {\n",
       "        vertical-align: middle;\n",
       "    }\n",
       "\n",
       "    .dataframe tbody tr th {\n",
       "        vertical-align: top;\n",
       "    }\n",
       "\n",
       "    .dataframe thead th {\n",
       "        text-align: right;\n",
       "    }\n",
       "</style>\n",
       "<table border=\"1\" class=\"dataframe\">\n",
       "  <thead>\n",
       "    <tr style=\"text-align: right;\">\n",
       "      <th></th>\n",
       "      <th>price</th>\n",
       "      <th>year</th>\n",
       "      <th>developer</th>\n",
       "      <th>item_id</th>\n",
       "    </tr>\n",
       "  </thead>\n",
       "  <tbody>\n",
       "    <tr>\n",
       "      <th>0</th>\n",
       "      <td>4.99</td>\n",
       "      <td>2018.0</td>\n",
       "      <td>Kotoshiro</td>\n",
       "      <td>761140.0</td>\n",
       "    </tr>\n",
       "    <tr>\n",
       "      <th>1</th>\n",
       "      <td>0.00</td>\n",
       "      <td>2018.0</td>\n",
       "      <td>Secret Level SRL</td>\n",
       "      <td>643980.0</td>\n",
       "    </tr>\n",
       "    <tr>\n",
       "      <th>2</th>\n",
       "      <td>0.00</td>\n",
       "      <td>2017.0</td>\n",
       "      <td>Poolians.com</td>\n",
       "      <td>670290.0</td>\n",
       "    </tr>\n",
       "    <tr>\n",
       "      <th>3</th>\n",
       "      <td>0.99</td>\n",
       "      <td>2017.0</td>\n",
       "      <td>彼岸领域</td>\n",
       "      <td>767400.0</td>\n",
       "    </tr>\n",
       "    <tr>\n",
       "      <th>4</th>\n",
       "      <td>3.99</td>\n",
       "      <td>2018.0</td>\n",
       "      <td>Trickjump Games Ltd</td>\n",
       "      <td>772540.0</td>\n",
       "    </tr>\n",
       "  </tbody>\n",
       "</table>\n",
       "</div>"
      ],
      "text/plain": [
       "   price    year            developer   item_id\n",
       "0   4.99  2018.0            Kotoshiro  761140.0\n",
       "1   0.00  2018.0     Secret Level SRL  643980.0\n",
       "2   0.00  2017.0         Poolians.com  670290.0\n",
       "3   0.99  2017.0                 彼岸领域  767400.0\n",
       "4   3.99  2018.0  Trickjump Games Ltd  772540.0"
      ]
     },
     "execution_count": 30,
     "metadata": {},
     "output_type": "execute_result"
    }
   ],
   "source": [
    "# Se renombra la columna 'id' para unirla con el dataframe anterior y  se eliminan los duplicados\n",
    "\n",
    "price_developer = df_game[['price', 'year', 'developer', 'id']]\n",
    "price_developer = price_developer.rename(columns={'id':'item_id'})\n",
    "df_developer = price_developer.drop_duplicates()\n",
    "df_developer.head()"
   ]
  },
  {
   "cell_type": "code",
   "execution_count": 93,
   "metadata": {},
   "outputs": [],
   "source": [
    "# Se crea el Dataframe developer\n",
    "df_developer.to_csv('df_developer.csv')"
   ]
  },
  {
   "cell_type": "code",
   "execution_count": 31,
   "metadata": {},
   "outputs": [],
   "source": [
    "# Se obtiene la funcion desarrollador\n",
    "def developer(desarrollador):\n",
    "    data = df_developer[df_developer['developer'] == desarrollador]\n",
    "    cantidad_anual = data.groupby('year')['item_id'].count()\n",
    "    cantidad_free = data[data['price'] == 0.0].groupby('year')['item_id'].count()\n",
    "    porcentaje_gratis = (cantidad_free / cantidad_anual * 100).fillna(0).astype(int)\n",
    "\n",
    "    result = {\n",
    "        'cantidad anual': cantidad_anual.to_dict(),\n",
    "        'porcentaje free anual': porcentaje_gratis.to_dict()\n",
    "    }\n",
    "    \n",
    "    return result"
   ]
  },
  {
   "cell_type": "code",
   "execution_count": 100,
   "metadata": {},
   "outputs": [
    {
     "data": {
      "text/plain": [
       "{'cantidad anual': {2018.0: 1}, 'porcentaje free anual': {2018.0: 0}}"
      ]
     },
     "execution_count": 100,
     "metadata": {},
     "output_type": "execute_result"
    }
   ],
   "source": [
    "developer('Kotoshiro')"
   ]
  },
  {
   "cell_type": "markdown",
   "metadata": {},
   "source": [
    "6. FUNCION SENTIMENT ANALYSIS\n",
    "\n",
    "Desarrollo y creacion \n",
    "\n",
    "Según el año de lanzamiento, se devuelve una lista con la cantidad de registros de reseñas de usuarios que se encuentren categorizados con un análisis de sentimiento."
   ]
  },
  {
   "cell_type": "code",
   "execution_count": 3,
   "metadata": {},
   "outputs": [
    {
     "data": {
      "text/html": [
       "<div>\n",
       "<style scoped>\n",
       "    .dataframe tbody tr th:only-of-type {\n",
       "        vertical-align: middle;\n",
       "    }\n",
       "\n",
       "    .dataframe tbody tr th {\n",
       "        vertical-align: top;\n",
       "    }\n",
       "\n",
       "    .dataframe thead th {\n",
       "        text-align: right;\n",
       "    }\n",
       "</style>\n",
       "<table border=\"1\" class=\"dataframe\">\n",
       "  <thead>\n",
       "    <tr style=\"text-align: right;\">\n",
       "      <th></th>\n",
       "      <th>item_id</th>\n",
       "      <th>year</th>\n",
       "    </tr>\n",
       "  </thead>\n",
       "  <tbody>\n",
       "    <tr>\n",
       "      <th>0</th>\n",
       "      <td>761140.0</td>\n",
       "      <td>2018.0</td>\n",
       "    </tr>\n",
       "    <tr>\n",
       "      <th>1</th>\n",
       "      <td>643980.0</td>\n",
       "      <td>2018.0</td>\n",
       "    </tr>\n",
       "    <tr>\n",
       "      <th>2</th>\n",
       "      <td>670290.0</td>\n",
       "      <td>2017.0</td>\n",
       "    </tr>\n",
       "    <tr>\n",
       "      <th>3</th>\n",
       "      <td>767400.0</td>\n",
       "      <td>2017.0</td>\n",
       "    </tr>\n",
       "    <tr>\n",
       "      <th>4</th>\n",
       "      <td>772540.0</td>\n",
       "      <td>2018.0</td>\n",
       "    </tr>\n",
       "  </tbody>\n",
       "</table>\n",
       "</div>"
      ],
      "text/plain": [
       "    item_id    year\n",
       "0  761140.0  2018.0\n",
       "1  643980.0  2018.0\n",
       "2  670290.0  2017.0\n",
       "3  767400.0  2017.0\n",
       "4  772540.0  2018.0"
      ]
     },
     "execution_count": 3,
     "metadata": {},
     "output_type": "execute_result"
    }
   ],
   "source": [
    "#Se extrae el año de creacion de los juegos, Se renombra la columna 'id' para unirla con el dataframe anterior \n",
    "# y se eliminan los duplicados\n",
    "\n",
    "año_game = df_game[['id', 'year']]\n",
    "año_game = año_game.rename(columns={'id':'item_id'})\n",
    "año_game = año_game.drop_duplicates()\n",
    "año_game.head()"
   ]
  },
  {
   "cell_type": "code",
   "execution_count": 4,
   "metadata": {},
   "outputs": [],
   "source": [
    "# Se une el Dataframe año_game a df_reviu\n",
    "df_reviu = df_reviu.merge(año_game, on='item_id')\n"
   ]
  },
  {
   "cell_type": "code",
   "execution_count": 5,
   "metadata": {},
   "outputs": [],
   "source": [
    "df_reviu.to_csv('df_reviu.csv')"
   ]
  },
  {
   "cell_type": "code",
   "execution_count": 6,
   "metadata": {},
   "outputs": [],
   "source": [
    "#Se crea la funcion\n",
    "def sentiment_analysis(anio):\n",
    "    # Filtrar las reseñas del desarrollador específico\n",
    "    año_reviu = df_reviu[df_reviu['year'] == anio]\n",
    "    \n",
    "    # Inicializar un diccionario para contar las categorías de sentimiento\n",
    "    conteo_sentiment = {'Negative': 0, 'Neutral': 0, 'Positive': 0}\n",
    "    \n",
    "    # Iterar a través de las reseñas del desarrollador\n",
    "    for index, row in año_reviu.iterrows():\n",
    "        sentiment = row['sentiment_analisy']\n",
    "        categoria = ''\n",
    "        \n",
    "        # Asignar la categoría de sentimiento correspondiente\n",
    "        if sentiment == 0:\n",
    "            categoria = 'Negative'\n",
    "        elif sentiment == 1:\n",
    "            categoria = 'Neutral'\n",
    "        elif sentiment == 2:\n",
    "            categoria = 'Positive'\n",
    "        \n",
    "        # Incrementar el contador correspondiente en el diccionario\n",
    "        conteo_sentiment[categoria] += 1\n",
    "    \n",
    "    return conteo_sentiment"
   ]
  },
  {
   "cell_type": "code",
   "execution_count": 7,
   "metadata": {},
   "outputs": [
    {
     "data": {
      "text/plain": [
       "{'Negative': 413, 'Neutral': 470, 'Positive': 1091}"
      ]
     },
     "execution_count": 7,
     "metadata": {},
     "output_type": "execute_result"
    }
   ],
   "source": [
    "sentiment_analysis(2009)"
   ]
  }
 ],
 "metadata": {
  "kernelspec": {
   "display_name": "Python 3",
   "language": "python",
   "name": "python3"
  },
  "language_info": {
   "codemirror_mode": {
    "name": "ipython",
    "version": 3
   },
   "file_extension": ".py",
   "mimetype": "text/x-python",
   "name": "python",
   "nbconvert_exporter": "python",
   "pygments_lexer": "ipython3",
   "version": "3.10.11"
  },
  "orig_nbformat": 4
 },
 "nbformat": 4,
 "nbformat_minor": 2
}
